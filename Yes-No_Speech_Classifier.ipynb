{
 "cells": [
  {
   "cell_type": "markdown",
   "id": "ce52fde64010faa",
   "metadata": {},
   "source": [
    "## 📄 Dataset Description\n",
    "\n",
    "- **Dataset**: Mini Speech Commands (Google)\n",
    "- **Task**: Binary speech classification — `\"yes\"` vs `\"no\"`\n",
    "- **Samples**: 2,000 total (1,000 \"yes\", 1,000 \"no\")\n",
    "- **Duration**: 1 second per clip, 16kHz mono WAV\n",
    "- **Features Extracted**:\n",
    "  - 13 MFCCs\n",
    "  - 1 Spectral Centroid\n",
    "  - 1 Spectral Rolloff\n",
    "  - 1 Zero-Crossing Rate\n",
    "  - **Total**: 16 features per sample\n",
    "- **Class Distribution**: Balanced (50% yes, 50% no)\n"
   ]
  },
  {
   "cell_type": "code",
   "execution_count": 55,
   "id": "744dc60522158604",
   "metadata": {
    "ExecuteTime": {
     "end_time": "2025-04-15T15:24:39.012023Z",
     "start_time": "2025-04-15T15:24:37.802462Z"
    }
   },
   "outputs": [],
   "source": [
    "import numpy as np\n",
    "import pandas as pd\n",
    "import matplotlib.pyplot as plt\n",
    "import seaborn as sns\n",
    "from sklearn.model_selection import train_test_split\n",
    "from sklearn.preprocessing import LabelEncoder\n",
    "import os\n",
    "import librosa\n",
    "from sklearn.metrics import accuracy_score, precision_score, recall_score, f1_score\n",
    "from sklearn.preprocessing import StandardScaler\n",
    "from sklearn.utils import resample\n",
    "from collections import Counter\n",
    "import sounddevice as sd\n",
    "from scipy.io.wavfile import write"
   ]
  },
  {
   "cell_type": "markdown",
   "id": "d56604e10bbcca9d",
   "metadata": {},
   "source": [
    "### Loading Data"
   ]
  },
  {
   "cell_type": "code",
   "execution_count": 23,
   "id": "eea8524c57aab824",
   "metadata": {
    "ExecuteTime": {
     "end_time": "2025-04-15T16:17:49.807691Z",
     "start_time": "2025-04-15T16:17:49.790657Z"
    }
   },
   "outputs": [],
   "source": [
    "DATASET_PATH = 'Speech/mini_speech_commands'\n",
    "\n",
    "# Labels used \n",
    "CLASSES = ['yes', 'no']\n",
    "\n",
    "# Sample rate for consistency\n",
    "SAMPLE_RATE = 16000"
   ]
  },
  {
   "cell_type": "markdown",
   "id": "b4cce49a028efeaf",
   "metadata": {},
   "source": [
    "### Preprocessing + Features extraction function"
   ]
  },
  {
   "cell_type": "code",
   "execution_count": 24,
   "id": "cc336dd45ad0f2a",
   "metadata": {
    "ExecuteTime": {
     "end_time": "2025-04-15T22:02:02.942292Z",
     "start_time": "2025-04-15T22:02:02.904129Z"
    }
   },
   "outputs": [],
   "source": [
    "# Extracting features from a single audio file\n",
    "def extract_features(file_path):\n",
    "    # Load audio\n",
    "    y, sr = librosa.load(file_path, sr=SAMPLE_RATE)\n",
    "    \n",
    "    # --- Preprocessing ---\n",
    "\n",
    "    # Noise Reduction (pre-emphasis filter to reduce noise) \n",
    "    y = librosa.effects.preemphasis(y)\n",
    "\n",
    "    # Silence Removal\n",
    "    y, _ = librosa.effects.trim(y, top_db=20)\n",
    "\n",
    "    # Normalization\n",
    "    y = librosa.util.normalize(y)\n",
    "\n",
    "    # --- Feature Extraction ---\n",
    "\n",
    "    # MFCCs (13 coefficients)\n",
    "    mfccs = librosa.feature.mfcc(y=y, sr=sr, n_mfcc=13)\n",
    "\n",
    "    # Spectral Centroid\n",
    "    spec_centroid = librosa.feature.spectral_centroid(y=y, sr=sr)\n",
    "\n",
    "    # Spectral Rolloff\n",
    "    spec_rolloff = librosa.feature.spectral_rolloff(y=y, sr=sr)\n",
    "\n",
    "    # Zero-Crossing Rate\n",
    "    zcr = librosa.feature.zero_crossing_rate(y)\n",
    "\n",
    "    # Combine features (mean across time axis)\n",
    "    features = np.hstack([\n",
    "        np.mean(mfccs, axis=1),              # 13\n",
    "        np.mean(spec_centroid),             # 1\n",
    "        np.mean(spec_rolloff),              # 1\n",
    "        np.mean(zcr)                        # 1\n",
    "    ])\n",
    "\n",
    "    scaler = StandardScaler()\n",
    "    features = scaler.fit_transform(features.reshape(-1, 1)).flatten()\n",
    "\n",
    "    return features"
   ]
  },
  {
   "cell_type": "markdown",
   "id": "37be4c19e995118b",
   "metadata": {},
   "source": [
    "### Preparing Data"
   ]
  },
  {
   "cell_type": "code",
   "execution_count": 25,
   "id": "52a3a8084aec12f4",
   "metadata": {
    "ExecuteTime": {
     "end_time": "2025-04-15T22:05:39.289880Z",
     "start_time": "2025-04-15T22:05:08.829897Z"
    }
   },
   "outputs": [
    {
     "name": "stdout",
     "output_type": "stream",
     "text": [
      "Feature matrix shape: (2000, 16)\n",
      "Labels shape: (2000,)\n"
     ]
    }
   ],
   "source": [
    "def prepare_dataset(dataset_path, classes):\n",
    "    X, y = [], []\n",
    "\n",
    "    for label in classes:\n",
    "        folder = os.path.join(dataset_path, label)\n",
    "        for file_name in os.listdir(folder):\n",
    "            file_path = os.path.join(folder, file_name)\n",
    "            try:\n",
    "                features = extract_features(file_path)\n",
    "                X.append(features)\n",
    "                y.append(label)\n",
    "            except Exception as e:\n",
    "                print(f\"Error processing {file_path}: {e}\")\n",
    "\n",
    "    return np.array(X), np.array(y)\n",
    "\n",
    "X, y = prepare_dataset(DATASET_PATH, CLASSES)\n",
    "print(\"Feature matrix shape:\", X.shape)\n",
    "print(\"Labels shape:\", y.shape)"
   ]
  },
  {
   "cell_type": "markdown",
   "id": "6e291775bd1879e5",
   "metadata": {},
   "source": [
    "### Label Encoding"
   ]
  },
  {
   "cell_type": "code",
   "execution_count": 26,
   "id": "b1f60545a6fe6ea3",
   "metadata": {
    "ExecuteTime": {
     "end_time": "2025-04-15T22:09:03.549015Z",
     "start_time": "2025-04-15T22:09:03.531980Z"
    }
   },
   "outputs": [
    {
     "name": "stdout",
     "output_type": "stream",
     "text": [
      "Encoded labels: (array([0, 1]), array([1000, 1000]))\n"
     ]
    }
   ],
   "source": [
    "le = LabelEncoder()\n",
    "y_encoded = le.fit_transform(y)  # yes → 1, no → 0\n",
    "print(\"Encoded labels:\", np.unique(y_encoded, return_counts=True))"
   ]
  },
  {
   "cell_type": "markdown",
   "id": "931d3aadaee3198d",
   "metadata": {},
   "source": [
    "### Train Test Split"
   ]
  },
  {
   "cell_type": "code",
   "execution_count": 27,
   "id": "361227ac870d6c69",
   "metadata": {
    "ExecuteTime": {
     "end_time": "2025-04-15T22:10:00.828353Z",
     "start_time": "2025-04-15T22:10:00.807883Z"
    }
   },
   "outputs": [
    {
     "name": "stdout",
     "output_type": "stream",
     "text": [
      "Train samples: 1600\n",
      "Test samples: 400\n"
     ]
    }
   ],
   "source": [
    "X_train, X_test, y_train, y_test = train_test_split(\n",
    "    X, y_encoded, test_size=0.2, random_state=42, stratify=y_encoded\n",
    ")\n",
    "print(\"Train samples:\", X_train.shape[0])\n",
    "print(\"Test samples:\", X_test.shape[0])"
   ]
  },
  {
   "cell_type": "code",
   "execution_count": 28,
   "id": "69630682d406273e",
   "metadata": {
    "ExecuteTime": {
     "end_time": "2025-04-15T22:18:01.851470Z",
     "start_time": "2025-04-15T22:18:01.662500Z"
    }
   },
   "outputs": [
    {
     "data": {
      "image/png": "[encoded data removed]",
      "text/plain": [
       "<Figure size 1200x600 with 1 Axes>"
      ]
     },
     "metadata": {},
     "output_type": "display_data"
    }
   ],
   "source": [
    "df = pd.DataFrame(X, columns=[f'F{i+1}' for i in range(X.shape[1])])\n",
    "df['label'] = y\n",
    "\n",
    "# Compute mean feature vector for each class\n",
    "mean_features = df.groupby('label').mean().T\n",
    "mean_features.columns = ['no', 'yes']  # or use: le.classes_\n",
    "\n",
    "# Plotting\n",
    "plt.figure(figsize=(12, 6))\n",
    "sns.lineplot(data=mean_features, palette=['red', 'green'])\n",
    "plt.title(\"Average Feature Values for 'yes' and 'no'\")\n",
    "plt.xlabel(\"Feature Index\")\n",
    "plt.ylabel(\"Mean Value\")\n",
    "plt.xticks(ticks=range(16), labels=[f'F{i+1}' for i in range(16)])\n",
    "plt.grid(True)\n",
    "plt.legend(title='Class')\n",
    "plt.tight_layout()\n",
    "plt.show()"
   ]
  },
  {
   "cell_type": "code",
   "execution_count": 51,
   "id": "fb2f27436c559daa",
   "metadata": {},
   "outputs": [],
   "source": [
    "def naive_bayes(X_train, y_train, X_test):\n",
    "    classes = np.unique(y_train)\n",
    "    predictions = []\n",
    "    means = {}\n",
    "    vars_ = {}\n",
    "    priors = {}\n",
    "\n",
    "    for c in classes:\n",
    "        X_c = X_train[y_train == c]\n",
    "        means[c] = np.mean(X_c, axis=0)\n",
    "        vars_[c] = np.var(X_c, axis=0) + 1e-6\n",
    "        priors[c] = len(X_c) / len(X_train)\n",
    "\n",
    "    for x in X_test:\n",
    "        probs = {}\n",
    "        for c in classes:\n",
    "            mean = means[c]\n",
    "            var = vars_[c]\n",
    "            prior = priors[c]\n",
    "\n",
    "            exponent = np.exp(-((x - mean) ** 2) / (2 * var))\n",
    "            pdf = (1 / np.sqrt(2 * np.pi * var)) * exponent\n",
    "            likelihood = np.prod(pdf)\n",
    "\n",
    "            probs[c] = prior * likelihood\n",
    "\n",
    "        prediction = max(probs, key=probs.get)\n",
    "        predictions.append(prediction)\n",
    "\n",
    "    return np.array(predictions)"
   ]
  },
  {
   "cell_type": "markdown",
   "id": "91b1e456",
   "metadata": {},
   "source": [
    "### Logistic Regression"
   ]
  },
  {
   "cell_type": "code",
   "execution_count": null,
   "id": "b53970ef",
   "metadata": {},
   "outputs": [],
   "source": [
    "class Logistic_Regression:\n",
    "    def __init__(self, learning_rate=0.01, n_iterations=1000):\n",
    "        self.learning_rate = learning_rate\n",
    "        self.n_iterations = n_iterations\n",
    "        self.weights = None\n",
    "        self.bias = None\n",
    "\n",
    "    def sigmoid(self, z):\n",
    "        return 1 / (1 + np.exp(-z))\n",
    "\n",
    "    def fit(self, X, y):\n",
    "        n_samples, n_features = X.shape\n",
    "        self.weights = np.zeros(n_features)\n",
    "        self.bias = 0\n",
    "\n",
    "        for _ in range(self.n_iterations):\n",
    "            linear_model = np.dot(X, self.weights) + self.bias\n",
    "            y_predicted = self.sigmoid(linear_model)\n",
    "\n",
    "            dw = (1 / n_samples) * np.dot(X.T, (y_predicted - y))\n",
    "            db = (1 / n_samples) * np.sum(y_predicted - y)\n",
    "\n",
    "            self.weights -= self.learning_rate * dw\n",
    "            self.bias -= self.learning_rate * db\n",
    "\n",
    "    def predict_proba(self, X):\n",
    "        linear_model = np.dot(X, self.weights) + self.bias\n",
    "        return self.sigmoid(linear_model)\n",
    "\n",
    "    def predict(self, X):\n",
    "        y_probs = self.predict_proba(X)\n",
    "        return np.where(y_probs >= 0.5, 1, 0)\n"
   ]
  },
  {
   "cell_type": "code",
   "execution_count": 54,
   "id": "fe07cc24",
   "metadata": {},
   "outputs": [
    {
     "name": "stdout",
     "output_type": "stream",
     "text": [
      "Accuracy: 0.92\n",
      "Precision: 0.8818181818181818\n",
      "Recall: 0.97\n",
      "F1 Score: 0.9238095238095239\n",
      "-----------------------------------------------------------\n",
      "Logistic Regression Results:\n",
      "Accuracy: 0.9275\n",
      "Precision: 0.8976744186046511\n",
      "Recall: 0.965\n",
      "F1 Score: 0.9301204819277108\n"
     ]
    }
   ],
   "source": [
    "y_pred = naive_bayes(X_train, y_train, X_test)\n",
    "print(\"Accuracy:\", accuracy_score(y_test, y_pred))\n",
    "print(\"Precision:\", precision_score(y_test, y_pred, pos_label=1))\n",
    "print(\"Recall:\", recall_score(y_test, y_pred, pos_label=1))\n",
    "print(\"F1 Score:\", f1_score(y_test, y_pred, pos_label=1))\n",
    "print('-----------------------------------------------------------')\n",
    "\n",
    "log_reg = Logistic_Regression()\n",
    "log_reg.fit(X_train, y_train)\n",
    "\n",
    "y_pred_log = log_reg.predict(X_test)\n",
    "\n",
    "print(\"Logistic Regression Results:\")\n",
    "print(\"Accuracy:\", accuracy_score(y_test, y_pred_log))\n",
    "print(\"Precision:\", precision_score(y_test, y_pred_log, pos_label=1))\n",
    "print(\"Recall:\", recall_score(y_test, y_pred_log, pos_label=1))\n",
    "print(\"F1 Score:\", f1_score(y_test, y_pred_log, pos_label=1))"
   ]
  },
  {
   "cell_type": "code",
   "execution_count": 56,
   "id": "2d908650",
   "metadata": {},
   "outputs": [],
   "source": [
    "def bagging_ensemble(X_train, y_train, X_test, model_type, n_estimators=10):\n",
    "    all_preds = []\n",
    "\n",
    "    for i in range(n_estimators):\n",
    "      \n",
    "        X_sample, y_sample = resample(X_train, y_train, replace=True)\n",
    "\n",
    "        if model_type == \"naive\":\n",
    "            preds = naive_bayes(X_sample, y_sample, X_test)\n",
    "        elif model_type == \"logistic\":\n",
    "            clf = LogisticRegression()\n",
    "            clf.fit(X_sample, y_sample)\n",
    "            preds = clf.predict(X_test)\n",
    "\n",
    "        all_preds.append(preds)\n",
    "\n",
    "    all_preds = np.array(all_preds).T\n",
    "    \n",
    "\n",
    "    final_preds = []\n",
    "    for preds in all_preds:\n",
    "        vote = Counter(preds).most_common(1)[0][0]\n",
    "        final_preds.append(vote)\n",
    "\n",
    "    return np.array(final_preds)"
   ]
  },
  {
   "cell_type": "code",
   "execution_count": 57,
   "id": "7b122e35",
   "metadata": {},
   "outputs": [
    {
     "name": "stdout",
     "output_type": "stream",
     "text": [
      "Bagged Naïve Bayes Performance:\n",
      "Accuracy : 0.9275\n",
      "Precision: 0.8904109589041096\n",
      "Recall   : 0.975\n",
      "F1 Score : 0.9307875894988067\n",
      "Bagged Logistic Regression Performance:\n",
      "Accuracy : 0.9375\n",
      "Precision: 0.9146919431279621\n",
      "Recall   : 0.965\n",
      "F1 Score : 0.9391727493917275\n"
     ]
    }
   ],
   "source": [
    "y_pred_bag_naive = bagging_ensemble(X_train, y_train, X_test, model_type=\"naive\", n_estimators=10)\n",
    "y_pred_bag_log = bagging_ensemble(X_train, y_train, X_test, model_type=\"logistic\", n_estimators=10)\n",
    "\n",
    "print(\"Bagged Naïve Bayes Performance:\")\n",
    "print(\"Accuracy :\", accuracy_score(y_test, y_pred_bag_naive))\n",
    "print(\"Precision:\", precision_score(y_test, y_pred_bag_naive, average='binary'))\n",
    "print(\"Recall   :\", recall_score(y_test, y_pred_bag_naive, average='binary'))\n",
    "print(\"F1 Score :\", f1_score(y_test, y_pred_bag_naive, average='binary'))\n",
    "\n",
    "print(\"Bagged Logistic Regression Performance:\")\n",
    "print(\"Accuracy :\", accuracy_score(y_test, y_pred_bag_log))\n",
    "print(\"Precision:\", precision_score(y_test, y_pred_bag_log, average='binary'))\n",
    "print(\"Recall   :\", recall_score(y_test, y_pred_bag_log, average='binary'))\n",
    "print(\"F1 Score :\", f1_score(y_test, y_pred_bag_log, average='binary'))"
   ]
  },
  {
   "cell_type": "code",
   "execution_count": 58,
   "id": "648ef618",
   "metadata": {},
   "outputs": [
    {
     "name": "stdout",
     "output_type": "stream",
     "text": [
      "   0 Microsoft Sound Mapper - Input, MME (2 in, 0 out)\n",
      "*  1 Headset Microphone (HyperX Virt, MME (2 in, 0 out)\n",
      "   2 Microphone (Iriun Webcam), MME (2 in, 0 out)\n",
      "   3 Microsoft Sound Mapper - Output, MME (0 in, 2 out)\n",
      "   4 Headset Earphone (HyperX Virtua, MME (0 in, 2 out)\n",
      "   5 2 - LC27RG50 (AMD High Definiti, MME (0 in, 2 out)\n",
      "   6 Primary Sound Capture Driver, Windows DirectSound (2 in, 0 out)\n",
      "   7 Headset Microphone (HyperX Virtual Surround Sound), Windows DirectSound (2 in, 0 out)\n",
      "   8 Microphone (Iriun Webcam), Windows DirectSound (2 in, 0 out)\n",
      "   9 Primary Sound Driver, Windows DirectSound (0 in, 2 out)\n",
      "  10 Headset Earphone (HyperX Virtual Surround Sound), Windows DirectSound (0 in, 2 out)\n",
      "  11 2 - LC27RG50 (AMD High Definition Audio Device), Windows DirectSound (0 in, 2 out)\n",
      "  12 Headset Earphone (HyperX Virtual Surround Sound), Windows WASAPI (0 in, 2 out)\n",
      "  13 2 - LC27RG50 (AMD High Definition Audio Device), Windows WASAPI (0 in, 2 out)\n",
      "  14 Headset Microphone (HyperX Virtual Surround Sound), Windows WASAPI (2 in, 0 out)\n",
      "  15 Microphone (Iriun Webcam), Windows WASAPI (2 in, 0 out)\n",
      "  16 Output (AMD HD Audio DP out #1), Windows WDM-KS (0 in, 2 out)\n",
      "  17 Line In (Realtek HD Audio Line input), Windows WDM-KS (2 in, 0 out)\n",
      "  18 Speakers (Realtek HD Audio output), Windows WDM-KS (0 in, 8 out)\n",
      "  19 Stereo Mix (Realtek HD Audio Stereo input), Windows WDM-KS (2 in, 0 out)\n",
      "  20 Microphone (Realtek HD Audio Mic input), Windows WDM-KS (2 in, 0 out)\n",
      "  21 Headset Microphone (HyperX Virtual Surround Sound), Windows WDM-KS (2 in, 0 out)\n",
      "  22 Headset Earphone (HyperX Virtual Surround Sound), Windows WDM-KS (0 in, 2 out)\n",
      "  23 MIDI (Iriun Webcam Audio), Windows WDM-KS (2 in, 0 out)\n"
     ]
    }
   ],
   "source": [
    "# List available audio devices\n",
    "print(sd.query_devices())"
   ]
  },
  {
   "cell_type": "code",
   "execution_count": 48,
   "id": "e0fee731",
   "metadata": {},
   "outputs": [],
   "source": [
    "# Choose the device you want to use \n",
    "sd.default.device = 1"
   ]
  },
  {
   "cell_type": "code",
   "execution_count": 49,
   "id": "c71258a3",
   "metadata": {},
   "outputs": [
    {
     "name": "stdout",
     "output_type": "stream",
     "text": [
      "Recording...\n",
      "Recording saved as test_voice.wav\n"
     ]
    }
   ],
   "source": [
    "fs = 16000  \n",
    "duration = 3  \n",
    "print(\"Recording...\")\n",
    "\n",
    "recording = sd.rec(int(duration * fs), samplerate=fs, channels=1)\n",
    "sd.wait()  \n",
    "\n",
    "write(\"test_voice.wav\", fs, recording) \n",
    "print(\"Recording saved as test_voice.wav\")"
   ]
  },
  {
   "cell_type": "code",
   "execution_count": 50,
   "id": "d84bb575",
   "metadata": {},
   "outputs": [
    {
     "name": "stdout",
     "output_type": "stream",
     "text": [
      "Naive Bayes prediction: [1]\n",
      "Logistic Regression prediction: [0]\n"
     ]
    }
   ],
   "source": [
    "features = extract_features(\"test_voice.wav\")\n",
    "naive_bayes_prediction = naive_bayes(X_train, y_train, features.reshape(1, -1))\n",
    "print(\"Naive Bayes prediction:\", naive_bayes_prediction)\n",
    "logistic_prediction = log_reg.predict(features.reshape(1, -1))\n",
    "print(\"Logistic Regression prediction:\", logistic_prediction)"
   ]
  }
 ],
 "metadata": {
  "kernelspec": {
   "display_name": "Python 3",
   "language": "python",
   "name": "python3"
  },
  "language_info": {
   "codemirror_mode": {
    "name": "ipython",
    "version": 3
   },
   "file_extension": ".py",
   "mimetype": "text/x-python",
   "name": "python",
   "nbconvert_exporter": "python",
   "pygments_lexer": "ipython3",
   "version": "3.12.3"
  }
 },
 "nbformat": 4,
 "nbformat_minor": 5
}
